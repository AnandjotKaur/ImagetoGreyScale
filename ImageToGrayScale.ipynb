{
  "nbformat": 4,
  "nbformat_minor": 0,
  "metadata": {
    "colab": {
      "provenance": [],
      "authorship_tag": "ABX9TyNbFTq4ZiNYZZskrfleotxh",
      "include_colab_link": true
    },
    "kernelspec": {
      "name": "python3",
      "display_name": "Python 3"
    },
    "language_info": {
      "name": "python"
    }
  },
  "cells": [
    {
      "cell_type": "markdown",
      "metadata": {
        "id": "view-in-github",
        "colab_type": "text"
      },
      "source": [
        "<a href=\"https://colab.research.google.com/github/AnandjotKaur/ImagetoGreyScale/blob/main/ImageToGrayScale.ipynb\" target=\"_parent\"><img src=\"https://colab.research.google.com/assets/colab-badge.svg\" alt=\"Open In Colab\"/></a>"
      ]
    },
    {
      "cell_type": "code",
      "source": [
        "\n",
        "from PIL import Image\n",
        "\n",
        "img = Image.open('/content/Picture3.png')\n",
        "imgGray = img.convert('L')\n",
        "imgGray.show\n",
        "imgGray.save('/content/Picture3.png')"
      ],
      "metadata": {
        "id": "ZPG3l2t5oUJ5"
      },
      "execution_count": 11,
      "outputs": []
    }
  ]
}